{
 "cells": [
  {
   "cell_type": "code",
   "execution_count": 2,
   "metadata": {},
   "outputs": [
    {
     "ename": "NameError",
     "evalue": "name 'a' is not defined",
     "output_type": "error",
     "traceback": [
      "\u001b[1;31m---------------------------------------------------------------------------\u001b[0m",
      "\u001b[1;31mNameError\u001b[0m                                 Traceback (most recent call last)",
      "\u001b[1;32m<ipython-input-2-e83cfc5ed96f>\u001b[0m in \u001b[0;36m<module>\u001b[1;34m\u001b[0m\n\u001b[1;32m----> 1\u001b[1;33m \u001b[0mb\u001b[0m\u001b[1;33m=\u001b[0m\u001b[0ma\u001b[0m\u001b[1;33m\u001b[0m\u001b[1;33m\u001b[0m\u001b[0m\n\u001b[0m\u001b[0;32m      2\u001b[0m \u001b[0ma\u001b[0m\u001b[1;33m.\u001b[0m\u001b[0mappend\u001b[0m\u001b[1;33m(\u001b[0m\u001b[1;36m4\u001b[0m\u001b[1;33m)\u001b[0m\u001b[1;33m\u001b[0m\u001b[1;33m\u001b[0m\u001b[0m\n\u001b[0;32m      3\u001b[0m \u001b[0mprint\u001b[0m\u001b[1;33m(\u001b[0m\u001b[0mb\u001b[0m\u001b[1;33m)\u001b[0m\u001b[1;33m\u001b[0m\u001b[1;33m\u001b[0m\u001b[0m\n",
      "\u001b[1;31mNameError\u001b[0m: name 'a' is not defined"
     ]
    }
   ],
   "source": [
    "b=a\n",
    "a.append(4)\n",
    "print(b)\n"
   ]
  },
  {
   "cell_type": "code",
   "execution_count": 2,
   "metadata": {},
   "outputs": [
    {
     "name": "stdout",
     "output_type": "stream",
     "text": [
      "['1']\n"
     ]
    }
   ],
   "source": [
    "city_a=['1','2','3','4']\n",
    "city_b=['2','3','4','5']\n",
    "\n",
    "print([i for i in city_a if i not in city_b])\n"
   ]
  },
  {
   "cell_type": "code",
   "execution_count": 3,
   "metadata": {},
   "outputs": [
    {
     "name": "stdout",
     "output_type": "stream",
     "text": [
      "3\n"
     ]
    }
   ],
   "source": [
    "dictionary1={\"abc\":1,\n",
    "             \"Google\":2,\n",
    "             \"abc\":3}\n",
    "print(dictionary1[\"abc\"])"
   ]
  },
  {
   "cell_type": "code",
   "execution_count": 4,
   "metadata": {},
   "outputs": [
    {
     "name": "stdout",
     "output_type": "stream",
     "text": [
      "[0, 1, 2, 3, 4](4, 6, 8, 10, 10)\n"
     ]
    }
   ],
   "source": [
    "d={1:[0,1,2,3],2:(4,6,8,10)}\n",
    "\n",
    "d[1].append(4)\n",
    "print(d[1],end=\"\")\n",
    "\n",
    "l=list(d[2])\n",
    "l.append(10)\n",
    "d[2]=tuple(l)\n",
    "print(d[2])\n"
   ]
  },
  {
   "cell_type": "code",
   "execution_count": 5,
   "metadata": {},
   "outputs": [
    {
     "name": "stdout",
     "output_type": "stream",
     "text": [
      "{'key1': 44, 'key2': 566}[1, 2, 3, 4]"
     ]
    }
   ],
   "source": [
    "temp=dict()\n",
    "temp[\"key1\"]={\"key1\":44,\"key2\":566}\n",
    "temp[\"key2\"]=[1,2,3,4]\n",
    "\n",
    "for key,values in temp.items():\n",
    "    print(values,end=\"\")\n"
   ]
  },
  {
   "cell_type": "code",
   "execution_count": 6,
   "metadata": {},
   "outputs": [
    {
     "name": "stdout",
     "output_type": "stream",
     "text": [
      "['geeks', 'forgeeks']\n"
     ]
    }
   ],
   "source": [
    "mylist=[\"geeks\",\"forgeeks\"]\n",
    "for i in mylist:\n",
    "    i.upper()\n",
    "\n",
    "print(mylist)\n"
   ]
  },
  {
   "cell_type": "code",
   "execution_count": 7,
   "metadata": {},
   "outputs": [
    {
     "name": "stdout",
     "output_type": "stream",
     "text": [
      "[5, 11, 12] [5, 11, 12]\n"
     ]
    }
   ],
   "source": [
    "def fun(x):\n",
    "    x[0]=5\n",
    "    return x\n",
    "\n",
    "g=[10,11,12]\n",
    "print(fun(g),g)\n"
   ]
  },
  {
   "cell_type": "code",
   "execution_count": 9,
   "metadata": {},
   "outputs": [
    {
     "name": "stdout",
     "output_type": "stream",
     "text": [
      "cannot divide by 0abc"
     ]
    }
   ],
   "source": [
    "data=50\n",
    "\n",
    "try:\n",
    "    data=data/0\n",
    "except ZeroDivisionError:\n",
    "    print(\"cannot divide by 0\",end=\"\")\n",
    "else:\n",
    "    print(\"Division successful\",end=\"\")\n",
    "\n",
    "try:\n",
    "    data=data/5\n",
    "except:\n",
    "    print(\"inside except block\",end=\"\")\n",
    "else:\n",
    "    print(\"abc\",end=\"\")"
   ]
  },
  {
   "cell_type": "code",
   "execution_count": 10,
   "metadata": {},
   "outputs": [
    {
     "name": "stdout",
     "output_type": "stream",
     "text": [
      "   id     a     b\n",
      "0   1  Ent1  sub1\n",
      "1   2  Ent2  sub2\n",
      "2   3  Ent3  sub4\n",
      "3   4  Ent4  sub6\n",
      "4   5  Ent5  sub5\n",
      "0   1  Enta  sub2\n",
      "1   2  Entb  sub4\n",
      "2   3  Entc  sub3\n",
      "3   4  Entd  sub6\n",
      "4   5  Ente  sub5\n"
     ]
    }
   ],
   "source": [
    "import pandas as pd\n",
    "left=pd.DataFrame({\n",
    "     \"id\":[1,2,3,4,5],\n",
    "     \"a\":[\"Ent1\",\"Ent2\",\"Ent3\",\"Ent4\",\"Ent5\"],\n",
    "     \"b\":[\"sub1\",\"sub2\",\"sub4\",\"sub6\",\"sub5\"]})\n",
    "\n",
    "right=pd.DataFrame({\n",
    "     \"id\":[1,2,3,4,5],\n",
    "     \"a\":[\"Enta\",\"Entb\",\"Entc\",\"Entd\",\"Ente\"],\n",
    "     \"b\":[\"sub2\",\"sub4\",\"sub3\",\"sub6\",\"sub5\"]})\n",
    "\n",
    "frames=[left,right]\n",
    "print(pd.concat(frames))"
   ]
  },
  {
   "cell_type": "code",
   "execution_count": 11,
   "metadata": {},
   "outputs": [
    {
     "ename": "FileNotFoundError",
     "evalue": "[Errno 2] No such file or directory: 'Counter_input.txt'",
     "output_type": "error",
     "traceback": [
      "\u001b[1;31m---------------------------------------------------------------------------\u001b[0m",
      "\u001b[1;31mFileNotFoundError\u001b[0m                         Traceback (most recent call last)",
      "\u001b[1;32m<ipython-input-11-371de8330adb>\u001b[0m in \u001b[0;36m<module>\u001b[1;34m\u001b[0m\n\u001b[1;32m----> 1\u001b[1;33m \u001b[0mf\u001b[0m\u001b[1;33m=\u001b[0m\u001b[0mopen\u001b[0m\u001b[1;33m(\u001b[0m\u001b[1;34m\"Counter_input.txt\"\u001b[0m\u001b[1;33m,\u001b[0m\u001b[1;34m\"r\"\u001b[0m\u001b[1;33m)\u001b[0m\u001b[1;33m\u001b[0m\u001b[1;33m\u001b[0m\u001b[0m\n\u001b[0m\u001b[0;32m      2\u001b[0m \u001b[0mf\u001b[0m\u001b[1;33m.\u001b[0m\u001b[0mclose\u001b[0m\u001b[1;33m(\u001b[0m\u001b[1;33m)\u001b[0m\u001b[1;33m\u001b[0m\u001b[1;33m\u001b[0m\u001b[0m\n\u001b[0;32m      3\u001b[0m \u001b[0mprint\u001b[0m\u001b[1;33m(\u001b[0m\u001b[0mf\u001b[0m\u001b[1;33m.\u001b[0m\u001b[0mclosed\u001b[0m\u001b[1;33m)\u001b[0m\u001b[1;31m#true\u001b[0m\u001b[1;33m\u001b[0m\u001b[1;33m\u001b[0m\u001b[0m\n\u001b[0;32m      4\u001b[0m \u001b[0mf\u001b[0m\u001b[1;33m=\u001b[0m\u001b[0mopen\u001b[0m\u001b[1;33m(\u001b[0m\u001b[1;34m\"Counter_input.txt\"\u001b[0m\u001b[1;33m,\u001b[0m\u001b[1;34m\"r\"\u001b[0m\u001b[1;33m)\u001b[0m\u001b[1;33m\u001b[0m\u001b[1;33m\u001b[0m\u001b[0m\n\u001b[0;32m      5\u001b[0m \u001b[0mprint\u001b[0m\u001b[1;33m(\u001b[0m\u001b[0mf\u001b[0m\u001b[1;33m.\u001b[0m\u001b[0mclosed\u001b[0m\u001b[1;33m)\u001b[0m\u001b[1;31m#false\u001b[0m\u001b[1;33m\u001b[0m\u001b[1;33m\u001b[0m\u001b[0m\n",
      "\u001b[1;31mFileNotFoundError\u001b[0m: [Errno 2] No such file or directory: 'Counter_input.txt'"
     ]
    }
   ],
   "source": [
    "f=open(\"Counter_input.txt\",\"r\")\n",
    "f.close()\n",
    "print(f.closed)#true\n",
    "f=open(\"Counter_input.txt\",\"r\")\n",
    "print(f.closed)#false\n"
   ]
  },
  {
   "cell_type": "code",
   "execution_count": 12,
   "metadata": {},
   "outputs": [
    {
     "name": "stdout",
     "output_type": "stream",
     "text": [
      "[['This', 'is'], ['is', 'a'], ['a', 'sample'], ['sample', 'text']]\n"
     ]
    }
   ],
   "source": [
    "#P E MD AS Rule \n",
    "\n",
    "def generate_ngrams(text,n):\n",
    "    words=text.split()#[\"This\",\"is\",\"a\",\"sample\",\"text\"]\n",
    "    output=[]\n",
    "    for i in range(len(words)-n+1):\n",
    "        output.append(words[i:i+n])\n",
    "    print(output)\n",
    "\n",
    "\n",
    "generate_ngrams(\"This is a sample text\",2)"
   ]
  },
  {
   "cell_type": "code",
   "execution_count": 13,
   "metadata": {},
   "outputs": [
    {
     "name": "stdout",
     "output_type": "stream",
     "text": [
      "Hello World\n",
      "Hello World\n"
     ]
    }
   ],
   "source": [
    "def sayHello():\n",
    "    print(\"Hello World\")\n",
    "\n",
    "sayHello()\n",
    "sayHello()"
   ]
  },
  {
   "cell_type": "code",
   "execution_count": 14,
   "metadata": {},
   "outputs": [
    {
     "name": "stdout",
     "output_type": "stream",
     "text": [
      "12\n"
     ]
    }
   ],
   "source": [
    "class tester:\n",
    "    def __init__(self,id):\n",
    "        self.id=str(id)\n",
    "        id=\"224\"\n",
    "\n",
    "temp=tester(12)\n",
    "print(temp.id)\n"
   ]
  },
  {
   "cell_type": "code",
   "execution_count": 15,
   "metadata": {},
   "outputs": [
    {
     "name": "stdout",
     "output_type": "stream",
     "text": [
      "1\n",
      "2\n",
      "3\n",
      "4\n"
     ]
    }
   ],
   "source": [
    "values=[1,2,3,4]    #[1,2,3,4]\n",
    "numbers=set(values) #{1,2,3,4}\n",
    "\n",
    "def checknums(num):\n",
    "    if num in numbers:\n",
    "        return True\n",
    "    else:\n",
    "        return False\n",
    "\n",
    "for i in filter(checknums,values):\n",
    "    print(i)\n"
   ]
  },
  {
   "cell_type": "code",
   "execution_count": 16,
   "metadata": {},
   "outputs": [
    {
     "name": "stdout",
     "output_type": "stream",
     "text": [
      "False\n"
     ]
    }
   ],
   "source": [
    "print(1==\"1\")"
   ]
  },
  {
   "cell_type": "code",
   "execution_count": null,
   "metadata": {},
   "outputs": [],
   "source": []
  }
 ],
 "metadata": {
  "kernelspec": {
   "display_name": "Python 3",
   "language": "python",
   "name": "python3"
  },
  "language_info": {
   "codemirror_mode": {
    "name": "ipython",
    "version": 3
   },
   "file_extension": ".py",
   "mimetype": "text/x-python",
   "name": "python",
   "nbconvert_exporter": "python",
   "pygments_lexer": "ipython3",
   "version": "3.7.6"
  }
 },
 "nbformat": 4,
 "nbformat_minor": 4
}
