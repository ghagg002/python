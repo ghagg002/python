{
 "cells": [
  {
   "cell_type": "code",
   "execution_count": 1,
   "metadata": {},
   "outputs": [
    {
     "ename": "ModuleNotFoundError",
     "evalue": "No module named 'pytube'",
     "output_type": "error",
     "traceback": [
      "\u001b[1;31m---------------------------------------------------------------------------\u001b[0m",
      "\u001b[1;31mModuleNotFoundError\u001b[0m                       Traceback (most recent call last)",
      "\u001b[1;32m<ipython-input-1-151c58ddc348>\u001b[0m in \u001b[0;36m<module>\u001b[1;34m\u001b[0m\n\u001b[0;32m      1\u001b[0m \u001b[1;32mimport\u001b[0m \u001b[0mwin32clipboard\u001b[0m\u001b[1;33m\u001b[0m\u001b[1;33m\u001b[0m\u001b[0m\n\u001b[1;32m----> 2\u001b[1;33m \u001b[1;32mfrom\u001b[0m \u001b[0mpytube\u001b[0m \u001b[1;32mimport\u001b[0m \u001b[0mYouTube\u001b[0m\u001b[1;33m\u001b[0m\u001b[1;33m\u001b[0m\u001b[0m\n\u001b[0m",
      "\u001b[1;31mModuleNotFoundError\u001b[0m: No module named 'pytube'"
     ]
    }
   ],
   "source": [
    "import win32clipboard\n",
    "from pytube import YouTube"
   ]
  },
  {
   "cell_type": "code",
   "execution_count": null,
   "metadata": {},
   "outputs": [],
   "source": [
    "#default link\n",
    "link = \"https://www.youtube.com/watch?v=y9bkQ_U7dPU\"\n",
    "try:\n",
    "    # get clipboard data\n",
    "    win32clipboard.OpenClipboard()\n",
    "    link = win32clipboard.GetClipboardData()\n",
    "    win32clipboard.CloseClipboard()\n",
    "except Exception as ex:\n",
    "    print('Error : ',e)\n",
    "    exit()"
   ]
  },
  {
   "cell_type": "code",
   "execution_count": 2,
   "metadata": {},
   "outputs": [
    {
     "name": "stdout",
     "output_type": "stream",
     "text": [
      "Error name 'YouTube' is not defined\n",
      "Hit Enter to exit\n"
     ]
    }
   ],
   "source": [
    "try:\n",
    "    #where to save \n",
    "    SAVE_PATH = \"E:\\\\youtube videos\\\\\"\n",
    "    yt = YouTube(link)\n",
    "    print('Title :',yt.title)\n",
    "    print('Available formats :')\n",
    "    for stream in yt.streams.all():\n",
    "        print(stream)\n",
    "        \n",
    "    itag = input('\\nEnter the itag number to download video of that format: ')\n",
    "    stream = yt.streams.get_by_itag(itag)\n",
    "    print('\\nDownloading--- '+yt.title+' into location : '+SAVE_PATH)\n",
    "    stream.download(SAVE_PATH)\n",
    "    input('Hit Enter to exit')\n",
    "except Exception as e: \n",
    "    print(\"Error\",e) #to handle exception \n",
    "    input('Hit Enter to exit')"
   ]
  },
  {
   "cell_type": "code",
   "execution_count": null,
   "metadata": {},
   "outputs": [],
   "source": []
  }
 ],
 "metadata": {
  "kernelspec": {
   "display_name": "Python 3",
   "language": "python",
   "name": "python3"
  },
  "language_info": {
   "codemirror_mode": {
    "name": "ipython",
    "version": 3
   },
   "file_extension": ".py",
   "mimetype": "text/x-python",
   "name": "python",
   "nbconvert_exporter": "python",
   "pygments_lexer": "ipython3",
   "version": "3.7.6"
  }
 },
 "nbformat": 4,
 "nbformat_minor": 4
}
